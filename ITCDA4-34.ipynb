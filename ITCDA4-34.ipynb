{
 "cells": [
  {
   "cell_type": "code",
   "execution_count": 1,
   "id": "c89dbe97",
   "metadata": {},
   "outputs": [],
   "source": [
    "import numpy as np\n",
    "import pandas as pd\n",
    "import seaborn as sns\n",
    "import matplotlib.pyplot as plt"
   ]
  },
  {
   "cell_type": "code",
   "execution_count": 24,
   "id": "fa06813e",
   "metadata": {},
   "outputs": [
    {
     "data": {
      "text/html": [
       "<div>\n",
       "<style scoped>\n",
       "    .dataframe tbody tr th:only-of-type {\n",
       "        vertical-align: middle;\n",
       "    }\n",
       "\n",
       "    .dataframe tbody tr th {\n",
       "        vertical-align: top;\n",
       "    }\n",
       "\n",
       "    .dataframe thead th {\n",
       "        text-align: right;\n",
       "    }\n",
       "</style>\n",
       "<table border=\"1\" class=\"dataframe\">\n",
       "  <thead>\n",
       "    <tr style=\"text-align: right;\">\n",
       "      <th></th>\n",
       "      <th>Row ID</th>\n",
       "      <th>Order ID</th>\n",
       "      <th>Order Date</th>\n",
       "      <th>Ship Date</th>\n",
       "      <th>Ship Mode</th>\n",
       "      <th>Customer ID</th>\n",
       "      <th>Customer Name</th>\n",
       "      <th>Segment</th>\n",
       "      <th>Country</th>\n",
       "      <th>City</th>\n",
       "      <th>...</th>\n",
       "      <th>Postal Code</th>\n",
       "      <th>Region</th>\n",
       "      <th>Product ID</th>\n",
       "      <th>Category</th>\n",
       "      <th>Sub-Category</th>\n",
       "      <th>Product Name</th>\n",
       "      <th>Sales</th>\n",
       "      <th>Quantity</th>\n",
       "      <th>Discount</th>\n",
       "      <th>Profit</th>\n",
       "    </tr>\n",
       "  </thead>\n",
       "  <tbody>\n",
       "    <tr>\n",
       "      <th>0</th>\n",
       "      <td>1</td>\n",
       "      <td>CA-2016-152156</td>\n",
       "      <td>11/8/2016</td>\n",
       "      <td>11/11/2016</td>\n",
       "      <td>Second Class</td>\n",
       "      <td>CG-12520</td>\n",
       "      <td>Claire Gute</td>\n",
       "      <td>Consumer</td>\n",
       "      <td>United States</td>\n",
       "      <td>Henderson</td>\n",
       "      <td>...</td>\n",
       "      <td>42420</td>\n",
       "      <td>South</td>\n",
       "      <td>FUR-BO-10001798</td>\n",
       "      <td>Furniture</td>\n",
       "      <td>Bookcases</td>\n",
       "      <td>Bush Somerset Collection Bookcase</td>\n",
       "      <td>261.9600</td>\n",
       "      <td>2</td>\n",
       "      <td>0.00</td>\n",
       "      <td>41.9136</td>\n",
       "    </tr>\n",
       "    <tr>\n",
       "      <th>1</th>\n",
       "      <td>2</td>\n",
       "      <td>CA-2016-152156</td>\n",
       "      <td>11/8/2016</td>\n",
       "      <td>11/11/2016</td>\n",
       "      <td>Second Class</td>\n",
       "      <td>CG-12520</td>\n",
       "      <td>Claire Gute</td>\n",
       "      <td>Consumer</td>\n",
       "      <td>United States</td>\n",
       "      <td>Henderson</td>\n",
       "      <td>...</td>\n",
       "      <td>42420</td>\n",
       "      <td>South</td>\n",
       "      <td>FUR-CH-10000454</td>\n",
       "      <td>Furniture</td>\n",
       "      <td>Chairs</td>\n",
       "      <td>Hon Deluxe Fabric Upholstered Stacking Chairs,...</td>\n",
       "      <td>731.9400</td>\n",
       "      <td>3</td>\n",
       "      <td>0.00</td>\n",
       "      <td>219.5820</td>\n",
       "    </tr>\n",
       "    <tr>\n",
       "      <th>2</th>\n",
       "      <td>3</td>\n",
       "      <td>CA-2016-138688</td>\n",
       "      <td>6/12/2016</td>\n",
       "      <td>6/16/2016</td>\n",
       "      <td>Second Class</td>\n",
       "      <td>DV-13045</td>\n",
       "      <td>Darrin Van Huff</td>\n",
       "      <td>Corporate</td>\n",
       "      <td>United States</td>\n",
       "      <td>Los Angeles</td>\n",
       "      <td>...</td>\n",
       "      <td>90036</td>\n",
       "      <td>West</td>\n",
       "      <td>OFF-LA-10000240</td>\n",
       "      <td>Office Supplies</td>\n",
       "      <td>Labels</td>\n",
       "      <td>Self-Adhesive Address Labels for Typewriters b...</td>\n",
       "      <td>14.6200</td>\n",
       "      <td>2</td>\n",
       "      <td>0.00</td>\n",
       "      <td>6.8714</td>\n",
       "    </tr>\n",
       "    <tr>\n",
       "      <th>3</th>\n",
       "      <td>4</td>\n",
       "      <td>US-2015-108966</td>\n",
       "      <td>10/11/2015</td>\n",
       "      <td>10/18/2015</td>\n",
       "      <td>Standard Class</td>\n",
       "      <td>SO-20335</td>\n",
       "      <td>Sean O'Donnell</td>\n",
       "      <td>Consumer</td>\n",
       "      <td>United States</td>\n",
       "      <td>Fort Lauderdale</td>\n",
       "      <td>...</td>\n",
       "      <td>33311</td>\n",
       "      <td>South</td>\n",
       "      <td>FUR-TA-10000577</td>\n",
       "      <td>Furniture</td>\n",
       "      <td>Tables</td>\n",
       "      <td>Bretford CR4500 Series Slim Rectangular Table</td>\n",
       "      <td>957.5775</td>\n",
       "      <td>5</td>\n",
       "      <td>0.45</td>\n",
       "      <td>-383.0310</td>\n",
       "    </tr>\n",
       "    <tr>\n",
       "      <th>4</th>\n",
       "      <td>5</td>\n",
       "      <td>US-2015-108966</td>\n",
       "      <td>10/11/2015</td>\n",
       "      <td>10/18/2015</td>\n",
       "      <td>Standard Class</td>\n",
       "      <td>SO-20335</td>\n",
       "      <td>Sean O'Donnell</td>\n",
       "      <td>Consumer</td>\n",
       "      <td>United States</td>\n",
       "      <td>Fort Lauderdale</td>\n",
       "      <td>...</td>\n",
       "      <td>33311</td>\n",
       "      <td>South</td>\n",
       "      <td>OFF-ST-10000760</td>\n",
       "      <td>Office Supplies</td>\n",
       "      <td>Storage</td>\n",
       "      <td>Eldon Fold 'N Roll Cart System</td>\n",
       "      <td>22.3680</td>\n",
       "      <td>2</td>\n",
       "      <td>0.20</td>\n",
       "      <td>2.5164</td>\n",
       "    </tr>\n",
       "  </tbody>\n",
       "</table>\n",
       "<p>5 rows × 21 columns</p>\n",
       "</div>"
      ],
      "text/plain": [
       "   Row ID        Order ID  Order Date   Ship Date       Ship Mode Customer ID  \\\n",
       "0       1  CA-2016-152156   11/8/2016  11/11/2016    Second Class    CG-12520   \n",
       "1       2  CA-2016-152156   11/8/2016  11/11/2016    Second Class    CG-12520   \n",
       "2       3  CA-2016-138688   6/12/2016   6/16/2016    Second Class    DV-13045   \n",
       "3       4  US-2015-108966  10/11/2015  10/18/2015  Standard Class    SO-20335   \n",
       "4       5  US-2015-108966  10/11/2015  10/18/2015  Standard Class    SO-20335   \n",
       "\n",
       "     Customer Name    Segment        Country             City  ...  \\\n",
       "0      Claire Gute   Consumer  United States        Henderson  ...   \n",
       "1      Claire Gute   Consumer  United States        Henderson  ...   \n",
       "2  Darrin Van Huff  Corporate  United States      Los Angeles  ...   \n",
       "3   Sean O'Donnell   Consumer  United States  Fort Lauderdale  ...   \n",
       "4   Sean O'Donnell   Consumer  United States  Fort Lauderdale  ...   \n",
       "\n",
       "  Postal Code  Region       Product ID         Category Sub-Category  \\\n",
       "0       42420   South  FUR-BO-10001798        Furniture    Bookcases   \n",
       "1       42420   South  FUR-CH-10000454        Furniture       Chairs   \n",
       "2       90036    West  OFF-LA-10000240  Office Supplies       Labels   \n",
       "3       33311   South  FUR-TA-10000577        Furniture       Tables   \n",
       "4       33311   South  OFF-ST-10000760  Office Supplies      Storage   \n",
       "\n",
       "                                        Product Name     Sales  Quantity  \\\n",
       "0                  Bush Somerset Collection Bookcase  261.9600         2   \n",
       "1  Hon Deluxe Fabric Upholstered Stacking Chairs,...  731.9400         3   \n",
       "2  Self-Adhesive Address Labels for Typewriters b...   14.6200         2   \n",
       "3      Bretford CR4500 Series Slim Rectangular Table  957.5775         5   \n",
       "4                     Eldon Fold 'N Roll Cart System   22.3680         2   \n",
       "\n",
       "   Discount    Profit  \n",
       "0      0.00   41.9136  \n",
       "1      0.00  219.5820  \n",
       "2      0.00    6.8714  \n",
       "3      0.45 -383.0310  \n",
       "4      0.20    2.5164  \n",
       "\n",
       "[5 rows x 21 columns]"
      ]
     },
     "execution_count": 24,
     "metadata": {},
     "output_type": "execute_result"
    }
   ],
   "source": [
    "df = pd.read_csv(\"C:/Users/Emmanuel/Documents/Data Science/ITCDA4-34 Communication in Data Science module/Project/superstore.csv\",header = 0,sep=\",\",encoding='ISO-8859-1')\n",
    "df.head()"
   ]
  },
  {
   "cell_type": "code",
   "execution_count": 37,
   "id": "93ab4ad8",
   "metadata": {},
   "outputs": [
    {
     "name": "stdout",
     "output_type": "stream",
     "text": [
      "product with the lowest sales volume is the: Hoover Replacement Belt for Commercial Guardsman Heavy-Duty Upright Vacuum\n",
      "product with the highest sales volume is the: Cisco TelePresence System EX90 Videoconferencing Unit\n"
     ]
    }
   ],
   "source": [
    "#lowest and highest sales volumes\n",
    "minQuantIdx = df['Sales'].idxmin() #get index of row with lowest sales volumes\n",
    "maxQuantIdx = df['Sales'].idxmax() #get index of row with highest sales volumes\n",
    "\n",
    "minRow =df.loc[minQuantIdx, 'Product Name']\n",
    "\n",
    "print(f\"product with the lowest sales volume is the: { df.loc[minQuantIdx, 'Product Name']}\")\n",
    "print(f\"product with the highest sales volume is the: {df.loc[maxQuantIdx, 'Product Name']}\")\n"
   ]
  },
  {
   "cell_type": "code",
   "execution_count": null,
   "id": "14122192",
   "metadata": {},
   "outputs": [],
   "source": []
  },
  {
   "cell_type": "code",
   "execution_count": 39,
   "id": "bfa25e67",
   "metadata": {},
   "outputs": [
    {
     "name": "stdout",
     "output_type": "stream",
     "text": [
      "product with the lowest profit margins is the: Cubify CubeX 3D Printer Double Head Print\n",
      "product with the highest profit margins is the: Canon imageCLASS 2200 Advanced Copier\n"
     ]
    }
   ],
   "source": [
    "#lowest and highest profit margins\n",
    "minProfitIdx = df['Profit'].idxmin() #get index of row with lowest profit margins\n",
    "maxProfitIdx = df['Profit'].idxmax() #get index of row with highest profit margins\n",
    "\n",
    "print(f\"product with the lowest profit margins is the: { df.loc[minProfitIdx, 'Product Name']}\")\n",
    "print(f\"product with the highest profit margins is the: {df.loc[maxProfitIdx, 'Product Name']}\")"
   ]
  },
  {
   "cell_type": "code",
   "execution_count": 20,
   "id": "a4061781",
   "metadata": {},
   "outputs": [
    {
     "name": "stdout",
     "output_type": "stream",
     "text": [
      "-6599.978\n",
      "7773\n"
     ]
    }
   ],
   "source": []
  },
  {
   "cell_type": "code",
   "execution_count": null,
   "id": "c2214a42",
   "metadata": {},
   "outputs": [],
   "source": [
    "#Are there any products with declining sales or low profitability that need attention?\n"
   ]
  },
  {
   "cell_type": "code",
   "execution_count": 31,
   "id": "29d5910f",
   "metadata": {},
   "outputs": [
    {
     "name": "stdout",
     "output_type": "stream",
     "text": [
      "unique values: False\n",
      "number of unique products 1862\n"
     ]
    }
   ],
   "source": [
    "is_unique_B = df['Product ID'].is_unique\n",
    "print(f\"unique values: {is_unique_B}\")\n",
    "\n",
    "print(f\"number of unique products {df['Product ID'].nunique()}\")"
   ]
  },
  {
   "cell_type": "code",
   "execution_count": 26,
   "id": "e6c2155d",
   "metadata": {},
   "outputs": [
    {
     "name": "stdout",
     "output_type": "stream",
     "text": [
      "      Row ID        Order ID Order Date  Ship Date       Ship Mode  \\\n",
      "5579    5580  CA-2017-137498   9/9/2017  9/14/2017    Second Class   \n",
      "5578    5579  CA-2017-137498   9/9/2017  9/14/2017    Second Class   \n",
      "7876    7877  CA-2017-168403   9/9/2017  9/15/2017  Standard Class   \n",
      "2400    2401  CA-2017-147361   9/9/2017  9/15/2017  Standard Class   \n",
      "2399    2400  CA-2017-147361   9/9/2017  9/15/2017  Standard Class   \n",
      "...      ...             ...        ...        ...             ...   \n",
      "8070    8071  CA-2017-151750   1/1/2017   1/5/2017  Standard Class   \n",
      "8071    8072  CA-2017-151750   1/1/2017   1/5/2017  Standard Class   \n",
      "8072    8073  CA-2017-151750   1/1/2017   1/5/2017  Standard Class   \n",
      "8073    8074  CA-2017-151750   1/1/2017   1/5/2017  Standard Class   \n",
      "8075    8076  CA-2017-151750   1/1/2017   1/5/2017  Standard Class   \n",
      "\n",
      "     Customer ID    Customer Name    Segment        Country         City  ...  \\\n",
      "5579    LC-17050     Liz Carlisle   Consumer  United States  Los Angeles  ...   \n",
      "5578    LC-17050     Liz Carlisle   Consumer  United States  Los Angeles  ...   \n",
      "7876    DK-12835  Damala Kotsonis  Corporate  United States     Portland  ...   \n",
      "2400    SB-20290     Sean Braxton  Corporate  United States     Florence  ...   \n",
      "2399    SB-20290     Sean Braxton  Corporate  United States     Florence  ...   \n",
      "...          ...              ...        ...            ...          ...  ...   \n",
      "8070    JM-15250     Janet Martin   Consumer  United States   Huntsville  ...   \n",
      "8071    JM-15250     Janet Martin   Consumer  United States   Huntsville  ...   \n",
      "8072    JM-15250     Janet Martin   Consumer  United States   Huntsville  ...   \n",
      "8073    JM-15250     Janet Martin   Consumer  United States   Huntsville  ...   \n",
      "8075    JM-15250     Janet Martin   Consumer  United States   Huntsville  ...   \n",
      "\n",
      "     Postal Code   Region       Product ID         Category Sub-Category  \\\n",
      "5579       90004     West  FUR-CH-10003833        Furniture       Chairs   \n",
      "5578       90004     West  OFF-AR-10003829  Office Supplies          Art   \n",
      "7876       97206     West  OFF-AP-10003278  Office Supplies   Appliances   \n",
      "2400       29501    South  OFF-ST-10002214  Office Supplies      Storage   \n",
      "2399       29501    South  OFF-ST-10001809  Office Supplies      Storage   \n",
      "...          ...      ...              ...              ...          ...   \n",
      "8070       77340  Central  FUR-FU-10002116        Furniture  Furnishings   \n",
      "8071       77340  Central  FUR-CH-10003199        Furniture       Chairs   \n",
      "8072       77340  Central  OFF-AR-10003158  Office Supplies          Art   \n",
      "8073       77340  Central  OFF-BI-10000301  Office Supplies      Binders   \n",
      "8075       77340  Central  OFF-AP-10004708  Office Supplies   Appliances   \n",
      "\n",
      "                                           Product Name    Sales  Quantity  \\\n",
      "5579                          Novimex Fabric Task Chair  243.920         5   \n",
      "5578                                          Newell 35    6.560         2   \n",
      "7876            Belkin 7-Outlet SurgeMaster Home Series   11.176         1   \n",
      "2400                    X-Rack File for Hanging Folders   56.450         5   \n",
      "2399                  Fellowes Officeware Wire Shelving  628.810         7   \n",
      "...                                                 ...      ...       ...   \n",
      "8070  Tenex Carpeted, Granite-Look or Clear Contempo...  141.420         5   \n",
      "8071       Office Star - Contemporary Task Swivel Chair  310.744         4   \n",
      "8072                  Fluorescent Highlighters by Dixon   12.736         4   \n",
      "8073                             GBC Instant Report Kit    6.470         5   \n",
      "8075  Fellowes Superior 10 Outlet Split Surge Protector   15.224         2   \n",
      "\n",
      "      Discount    Profit  \n",
      "5579       0.2  -15.2450  \n",
      "5578       0.0    1.9024  \n",
      "7876       0.2    0.8382  \n",
      "2400       0.0   14.6770  \n",
      "2399       0.0   12.5762  \n",
      "...        ...       ...  \n",
      "8070       0.6 -187.3815  \n",
      "8071       0.3  -26.6352  \n",
      "8072       0.2    2.2288  \n",
      "8073       0.8   -9.7050  \n",
      "8075       0.8  -38.8212  \n",
      "\n",
      "[9994 rows x 21 columns]\n"
     ]
    }
   ],
   "source": [
    "df_dateSorted = df.sort_values(by='Order Date', ascending=False)\n",
    "print(df_dateSorted)"
   ]
  },
  {
   "cell_type": "markdown",
   "id": "d331b943",
   "metadata": {},
   "source": [
    "### II. Regional Performance:"
   ]
  },
  {
   "cell_type": "code",
   "execution_count": 32,
   "id": "547919ef",
   "metadata": {},
   "outputs": [
    {
     "name": "stdout",
     "output_type": "stream",
     "text": [
      "    Region        Sales\n",
      "0  Central  501239.8908\n",
      "1     East  678781.2400\n",
      "2    South  391721.9050\n",
      "3     West  725457.8245\n"
     ]
    }
   ],
   "source": [
    "totSales_df = df.groupby('Region')['Sales'].sum().reset_index()\n",
    "print(totSales_df)"
   ]
  },
  {
   "cell_type": "code",
   "execution_count": null,
   "id": "c9792646",
   "metadata": {},
   "outputs": [],
   "source": []
  }
 ],
 "metadata": {
  "kernelspec": {
   "display_name": "Python 3 (ipykernel)",
   "language": "python",
   "name": "python3"
  },
  "language_info": {
   "codemirror_mode": {
    "name": "ipython",
    "version": 3
   },
   "file_extension": ".py",
   "mimetype": "text/x-python",
   "name": "python",
   "nbconvert_exporter": "python",
   "pygments_lexer": "ipython3",
   "version": "3.11.7"
  }
 },
 "nbformat": 4,
 "nbformat_minor": 5
}
